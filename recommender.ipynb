{
 "cells": [
  {
   "cell_type": "code",
   "execution_count": 1,
   "metadata": {
    "id": "JlZRcvf8vVMp"
   },
   "outputs": [],
   "source": [
    "features = ['normal', 'dry', 'oily', 'combination', 'acne', 'sensitive', 'fine lines', 'wrinkles', 'redness',\n",
    "            'dull', 'pore', 'pigmentation', 'blackheads', 'whiteheads', 'blemishes', 'dark circles', 'eye bags', 'dark spots','dark', 'light', 'mid-dark', 'mid-light']"
   ]
  },
  {
   "cell_type": "code",
   "execution_count": 2,
   "metadata": {
    "colab": {
     "base_uri": "https://localhost:8080/"
    },
    "id": "3px_mqxKjL7u",
    "outputId": "344f6dbc-f499-43dc-ec5f-c2b7178d558b"
   },
   "outputs": [
    {
     "name": "stdout",
     "output_type": "stream",
     "text": [
      "[0, 0, 1, 0, 1, 0, 0, 0, 1, 0, 0, 0, 0, 0, 0, 0, 0, 0, 1, 0, 0, 0]\n"
     ]
    }
   ],
   "source": [
    "def generate_vector(skin_type, concerns,skin_tone):\n",
    "    vector = [0] * len(features)\n",
    "\n",
    "    # Set skin type\n",
    "    if skin_type in features[:5]:\n",
    "        vector[features.index(skin_type)] = 1\n",
    "\n",
    "    # Set concerns\n",
    "    for concern in concerns:\n",
    "        if concern in features[4:18]:\n",
    "            vector[features.index(concern)] = 1\n",
    "\n",
    "    if skin_tone in features[18:]:\n",
    "        vector[features.index(skin_tone)] = 1\n",
    "\n",
    "    return vector\n",
    "\n",
    "\n",
    "\n",
    "\n",
    "# Example usage\n",
    "skin_type = 'oily'\n",
    "concerns = ['Level_2', 'redness']\n",
    "\n",
    "acne_l = ''\n",
    "\n",
    "for i in concerns:\n",
    "    if i in ['Level_1','Level_2','Level_3']:\n",
    "        acne_l = i\n",
    "        concerns.append('acne')\n",
    "        break\n",
    "\n",
    "total_concerns = concerns + ['general care','sun protection']\n",
    "skin_tone = 'dark'\n",
    "x = generate_vector(skin_type, concerns,skin_tone)\n",
    "print(x)\n"
   ]
  },
  {
   "cell_type": "code",
   "execution_count": 3,
   "metadata": {
    "id": "vPbmRATXq7Si"
   },
   "outputs": [],
   "source": [
    "\n",
    "from IPython.utils.tempdir import TemporaryWorkingDirectory\n",
    "import numpy as np\n",
    "import pandas as pd\n",
    "from sklearn.metrics.pairwise import cosine_similarity\n",
    "\n",
    "df2 = pd.read_csv('final_with_skin_tone.csv')\n",
    "#makeup = pd.read_csv('makeup_final.csv')\n",
    "entries = len(df2)\n",
    "LABELS = list(df2.label.unique())\n",
    "# features\n",
    "\n",
    "features = ['normal', 'dry', 'oily', 'combination', 'acne', 'sensitive', 'fine lines', 'wrinkles', 'redness',\n",
    "            'dull', 'pore', 'pigmentation', 'blackheads', 'whiteheads', 'blemishes', 'dark circles', 'eye bags', 'dark spots','dark', 'light', 'mid-dark', 'mid-light']\n",
    "\n",
    "\n",
    "\n",
    "# utility functions\n",
    "\n",
    "def search_concern(target, i):\n",
    "    if target in df2.iloc[i]['concern']:\n",
    "        return True\n",
    "    return False\n",
    "\n",
    "\n",
    "def name2index(name):\n",
    "    return df2[df2[\"name\"] == name].index.tolist()[0]\n",
    "\n",
    "\n",
    "def index2prod(index):\n",
    "    return df2.iloc[index]\n",
    "\n",
    "\n",
    "def wrap(info_arr):\n",
    "    result = {}\n",
    "#     print(info_arr)\n",
    "    result['brand'] = info_arr[0]\n",
    "    result['name'] = info_arr[1]\n",
    "    result['price'] = info_arr[2]\n",
    "    result['url'] = info_arr[3]\n",
    "    result['img'] = info_arr[4]\n",
    "    result['skin type'] = info_arr[5]\n",
    "    result['concern'] = str(info_arr[6]).split(',')\n",
    "    result['skin tone'] = info_arr[7]\n",
    "    return result\n",
    "\n",
    "def wrap_makeup(info_arr):\n",
    "    result = {}\n",
    "#     print(info_arr)\n",
    "    result['brand'] = info_arr[0]\n",
    "    result['name'] = info_arr[1]\n",
    "    result['price'] = info_arr[2]\n",
    "    result['url'] = info_arr[3]\n",
    "    result['img'] = info_arr[4]\n",
    "    result['skin type'] = info_arr[5]\n",
    "\n",
    "    return result\n",
    "\n",
    "one_hot_encodings = np.zeros([entries, len(features)])\n",
    "\n",
    "\n",
    "#skin types first\n",
    "for i in range(entries):\n",
    "    for j in range(5):\n",
    "        target = features[j]\n",
    "        sk_type = df2.iloc[i]['skin type']\n",
    "        if sk_type == 'all':\n",
    "            one_hot_encodings[i][0:5] = 1\n",
    "        elif target == sk_type:\n",
    "            one_hot_encodings[i][j] = 1\n",
    "\n",
    "#other features\n",
    "for i in range(entries):\n",
    "    for j in range(4, len(features)):\n",
    "        feature = features[j]\n",
    "        if feature in df2.iloc[i]['concern']:\n",
    "            one_hot_encodings[i][j] = 1\n",
    "\n",
    "for i in range(entries):\n",
    "    for j in range(18, len(features)):\n",
    "        target = features[j]\n",
    "        sk_type = df2.iloc[i]['skin tone']\n",
    "        if sk_type == 'all':\n",
    "            one_hot_encodings[i][18:22] = 1\n",
    "        elif target == sk_type:\n",
    "            one_hot_encodings[i][j] = 1\n",
    "\n",
    "# recommend top 5 similar items from a category\n",
    "\n",
    "\n",
    "def recs_cs(vector = None, name = None, label = None, count = 5):\n",
    "    products = []\n",
    "    if name:\n",
    "        idx = name2index(name)\n",
    "        fv = one_hot_encodings[idx]\n",
    "    elif vector:\n",
    "        fv = vector\n",
    "        #print(fv)\n",
    "    cs_values = cosine_similarity(np.array([fv, ]), one_hot_encodings)\n",
    "    df2['cs'] = cs_values[0]\n",
    "\n",
    "    if label:\n",
    "        dff = df2[df2['label'] == label]\n",
    "    else:\n",
    "        dff = df2\n",
    "\n",
    "    if name:\n",
    "        dff = dff[dff['name'] != name]\n",
    "    recommendations = dff.sort_values('cs', ascending=False).head(count)\n",
    "    #   print(f\"Top {count} matching {label} items\")\n",
    "    data = recommendations[['brand', 'name', 'price', 'url','img','skin type','concern','skin tone']].to_dict('split')['data']\n",
    "    for element in data:\n",
    "        products.append(wrap(element))\n",
    "    return products\n",
    "\n",
    "    # overall recommendation\n",
    "\n",
    "\n",
    "def recs_essentials(vector = None, name = None):\n",
    "#     print(\"ESSENTIALS:\")\n",
    "    response = {}\n",
    "    for label in LABELS:\n",
    "#         print(f\"{label}:\")\n",
    "        if name:\n",
    "            r = recs_cs(None, name, label)\n",
    "        elif vector:\n",
    "            r = recs_cs(vector, None, label)\n",
    "        response[label] = r\n",
    "    return response\n",
    "\n",
    "\n"
   ]
  },
  {
   "cell_type": "code",
   "execution_count": 4,
   "metadata": {
    "id": "EyRU26OHrLAG"
   },
   "outputs": [],
   "source": [
    "x = recs_essentials(x, None)"
   ]
  },
  {
   "cell_type": "code",
   "execution_count": 5,
   "metadata": {
    "colab": {
     "base_uri": "https://localhost:8080/"
    },
    "id": "TT0NiaNqy63_",
    "outputId": "ca39338e-e6ed-4cae-95b9-6b1cdd7fb108"
   },
   "outputs": [
    {
     "name": "stdout",
     "output_type": "stream",
     "text": [
      "face-moisturisers {'brand': 'ustraa', 'name': 'men oily skin moisturising cream 100g', 'price': '₹ 224', 'url': 'https://www.myntra.com/face-moisturisers/ustraa/ustraa-men-oily-skin-moisturising-cream-100g/13220398/buy', 'img': 'https://assets.myntassets.com/h_720,q_90,w_540/v1/assets/images/13220398/2021/3/15/2395b329-d3a9-4b57-a8bf-2a59f51019781615809377964-Ustraa-Men-Oily-Skin-Moisturising-Cream-100g-620161580937701-1.jpg', 'skin type': 'oily', 'concern': ['Level_2', 'smoothening', 'excess oil', 'softening'], 'skin tone': 'dark'}\n",
      "face-moisturisers {'brand': 'skinkraft', 'name': 'customized moisturizer for oily skin - 45 ml', 'price': '₹ 499', 'url': 'https://www.myntra.com/face-moisturisers/skinkraft/skinkraft-customized-moisturizer-for-oily-skin---45-ml/15345052/buy', 'img': 'https://assets.myntassets.com/h_720,q_90,w_540/v1/assets/images/15345052/2021/9/2/00a22bbe-f828-47c0-aed6-6a68b431fcfa1630588600147SKINKRAFT1.jpg', 'skin type': 'oily', 'concern': ['excess oil', 'Level_2', 'hydration', 'dryness'], 'skin tone': 'dark'}\n",
      "face-moisturisers {'brand': 'skinkraft', 'name': 'women oil balance moisturizer for slightly oily skin 45 ml', 'price': '₹ 499', 'url': 'https://www.myntra.com/face-moisturisers/skinkraft/skinkraft-women-oil-balance-moisturizer-for-slightly-oily-skin-45-ml/15345054/buy', 'img': 'https://assets.myntassets.com/h_720,q_90,w_540/v1/assets/images/15345054/2021/9/2/c920ef7d-fdee-4406-93f6-aa44d6ff92881630589192902SKINKRAFT1.jpg', 'skin type': 'oily', 'concern': ['excess oil', 'Level_2'], 'skin tone': 'dark'}\n",
      "face-moisturisers {'brand': 'plum', 'name': 'green tea range oil free moisturizer 50 ml', 'price': '₹ 413', 'url': 'https://www.myntra.com/face-moisturisers/plum/plum-green-tea-range-oil-free-moisturizer-50-ml/14047514/buy', 'img': 'https://assets.myntassets.com/h_720,q_90,w_540/v1/assets/images/14047514/2021/5/17/e94dfb52-32a5-4e36-b152-f5c51208ab041621241451866-Plum-Green-Tea-Oil-Free-Moisturizer-50-ml-5251621241451347-1.jpg', 'skin type': 'oily', 'concern': ['blemishes', 'Level_2', 'dull skin', 'acne'], 'skin tone': 'dark'}\n",
      "face-moisturisers {'brand': 'biotique', 'name': 'bio winter green spot correcting anti-acne sustainable cream 15g', 'price': '₹ 117', 'url': 'https://www.myntra.com/face-moisturisers/biotique/biotique-bio-winter-green-spot-correcting-anti-acne-sustainable-cream-15g/1661474/buy', 'img': 'https://assets.myntassets.com/h_720,q_90,w_540/v1/assets/images/1661474/2021/2/10/0d9e2c3b-ee61-4f58-bda2-9642a62107b01612953788265BiotiqueBioWinterGreenSpotCorrectingAnti-AcneSustainableCrea1.jpg', 'skin type': 'oily', 'concern': ['blemishes', 'Level_2', 'dark spots', 'acne'], 'skin tone': 'dark'}\n",
      "cleanser {'brand': 'the man company', 'name': 'charcoal face wash with ylang-ylang & argan essential oils 100 ml', 'price': '₹ 251', 'url': 'https://www.myntra.com/face-wash-and-cleanser/the-man-company/the-man-company-charcoal-face-wash-with-ylang-ylang--argan-essential-oils-100-ml/10814984/buy', 'img': 'https://assets.myntassets.com/h_720,q_90,w_540/v1/assets/images/10814984/2020/9/10/3600c5e0-68a0-47a8-9742-855f14a794cd1599746118709-THE-MAN-COMPANY-Charcoal-Face-Wash-With-Ylang-Ylang--Argan-E-1.jpg', 'skin type': 'oily', 'concern': ['Level_2', 'general care', 'skin inflammation', 'acne', 'blemishes'], 'skin tone': 'dark'}\n",
      "cleanser {'brand': 'khadi natural', 'name': 'ayurvedic neem & tea tree sustainable face wash - sls & paraben free 210 ml', 'price': '₹ 220', 'url': 'https://www.myntra.com/face-wash-and-cleanser/khadi-natural/khadi-natural-ayurvedic-neem--tea-tree-sustainable-face-wash---sls--paraben-free-210-ml/5416502/buy', 'img': 'https://assets.myntassets.com/h_720,q_90,w_540/v1/assets/images/5416502/2021/8/11/89ce3429-1691-453b-ad8e-3add788c747b1628671389417KhadiNaturalAyurvedicNeemTeaTreeSustainableFaceWash-SLSParab1.jpg', 'skin type': 'oily', 'concern': ['blemishes', 'Level_2', 'acne'], 'skin tone': 'dark'}\n",
      "cleanser {'brand': 'garnier', 'name': 'men acno fight anti-pimple for acne prone skin facewash 150g', 'price': '₹ 213', 'url': 'https://www.myntra.com/face-wash-and-cleanser/garnier/garnier-men-acno-fight-anti-pimple-for-acne-prone-skin-facewash-150g/13324928/buy', 'img': 'https://assets.myntassets.com/h_720,q_90,w_540/v1/assets/images/13324928/2021/1/11/293a5690-d00e-4302-87d5-291f45fdadb71610365088289-Garnier-Women-Face-Wash-and-Cleanser-2051610365087497-1.jpg', 'skin type': 'oily', 'concern': ['blemishes', 'Level_2', 'acne'], 'skin tone': 'dark'}\n",
      "cleanser {'brand': 'mamaearth', 'name': 'tea tree face wash with neem for acne & pimples - 250 ml', 'price': '₹ 359', 'url': 'https://www.myntra.com/face-wash-and-cleanser/mamaearth/mamaearth-tea-tree-face-wash-with-neem-for-acne--pimples---250-ml/13028262/buy', 'img': 'https://assets.myntassets.com/h_720,q_90,w_540/v1/assets/images/13028262/2020/11/20/5fd1252c-c0e1-497d-9f57-31a3a60becb31605863886208-Mamaearth-2521605863885346-1.jpg', 'skin type': 'oily', 'concern': ['blemishes', 'Level_2', 'acne'], 'skin tone': 'dark'}\n",
      "cleanser {'brand': 'the body shop', 'name': 'the body shop vitamin e range tea tree skin clearing sustainable face wash 250 ml', 'price': '₹ 633', 'url': 'https://www.myntra.com/face-wash-and-cleanser/the-body-shop/the-body-shop-vitamin-e-range-tea-tree-skin-clearing-sustainable-face-wash-250-ml/1777425/buy', 'img': 'https://assets.myntassets.com/h_720,q_90,w_540/v1/assets/images/1777425/2021/2/11/b19c5e9e-5369-4d1b-9797-3adcb31bb9d21613030580985THEBODYSHOPUnisexTeaTreeSkinClearingSustainableFaceWash250ml1.jpg', 'skin type': 'oily', 'concern': ['Level_2', 'acne', 'blemishes', 'excess oil'], 'skin tone': 'dark'}\n",
      "mask-and-peel {'brand': 'vedix', 'name': 'avasya clarifying clay mask for acne prone skin ayurvedic face pack- 100gm', 'price': '₹ 399', 'url': 'https://www.myntra.com/mask-and-peel/vedix/vedix-avasya-clarifying-clay-mask-for-acne-prone-skin-ayurvedic-face-pack--100gm/15458414/buy', 'img': 'https://assets.myntassets.com/h_720,q_90,w_540/v1/assets/images/15458414/2021/9/16/7f8292ed-2588-4833-8c20-93df70a0c7071631752257063MaskandPeel1.jpg', 'skin type': 'oily', 'concern': ['blemishes', 'Level_2', 'acne'], 'skin tone': 'dark'}\n",
      "mask-and-peel {'brand': 'fabindia', 'name': 'neem tulsi face pack - 100 g', 'price': '₹ 360', 'url': 'https://www.myntra.com/mask-and-peel/fabindia/fabindia-neem-tulsi-face-pack---100-g/15560982/buy', 'img': 'https://assets.myntassets.com/h_720,q_90,w_540/v1/assets/images/15560982/2021/9/21/0618f2ad-a7fb-45e5-b68d-bd879258355b1632231633166PCFaceNeemTulsiFacePack100gIXBIOMECWH1.jpg', 'skin type': 'oily', 'concern': ['blemishes', 'Level_2', 'acne'], 'skin tone': 'dark'}\n",
      "mask-and-peel {'brand': 'biotique', 'name': 'bio clove purifying anti-blemish face pack 75 g', 'price': '₹ 117', 'url': 'https://www.myntra.com/mask-and-peel/biotique/biotique-bio-clove-purifying-anti-blemish-face-pack-75-g/1661418/buy', 'img': 'https://assets.myntassets.com/h_720,q_90,w_540/v1/assets/images/1661418/2021/4/14/d4f6eca0-8914-4ff8-8291-ea24ccf90e581618385175197-Biotique-Bio-Clove-Purifying-Anti-Blemish-Face-Pack-75g-8341-1.jpg', 'skin type': 'oily', 'concern': ['Level_2', 'acne', 'blemishes', 'dark spots'], 'skin tone': 'dark'}\n",
      "mask-and-peel {'brand': 'mcaffeine', 'name': 'coffee skin refining kit - set of 2', 'price': '₹ 785', 'url': 'https://www.myntra.com/mask-and-peel/mcaffeine/mcaffeine-coffee-skin-refining-kit---set-of-2/12860670/buy', 'img': 'https://assets.myntassets.com/h_720,q_90,w_540/v1/assets/images/12860670/2020/12/10/ea1380e9-6173-420b-b597-584b1542038c1607572750249-MCaffeine-Coffee-Skin-Refining-Kit-7141607572748119-1.jpg', 'skin type': 'oily', 'concern': ['Level_2', 'pore care', 'acne', 'blemishes', 'tan removal'], 'skin tone': 'dark'}\n",
      "mask-and-peel {'brand': 'biotique', 'name': 'advanced organics tea tree skin clearing clay face mask 70 g', 'price': '₹ 147', 'url': 'https://www.myntra.com/mask-and-peel/biotique/biotique-advanced-organics-tea-tree-skin-clearing-clay-face-mask-70-g/12678956/buy', 'img': 'https://assets.myntassets.com/h_720,q_90,w_540/v1/assets/images/12678956/2020/10/9/b29a15a5-56b0-4cdf-8543-edcd88acd15a1602216142422-Biotique-Advanced-Organics-Tea-Tree-Skin-Clearing-Clay-Mask--1.jpg', 'skin type': 'oily', 'concern': ['Level_2', 'dull skin', 'oil control', 'acne', 'blemishes'], 'skin tone': 'dark'}\n",
      "eye-cream {'brand': 'just herbs', 'name': \"i'clear green tea - cucumber nourishing under eye gel (50 g)\", 'price': '₹ 922', 'url': 'https://www.myntra.com/eye-cream/just-herbs/just-herbs-iclear-green-tea---cucumber-nourishing-under-eye-gel-50-g/11449802/buy', 'img': 'https://assets.myntassets.com/h_1136,q_90,w_852/v1/assets/images/productimage/2020/2/4/6dcc0d1e-aa47-4e4f-8561-4e058dac249e1580767923391-1.jpg', 'skin type': 'oily', 'concern': ['dark circles', 'Level_2'], 'skin tone': 'dark'}\n",
      "eye-cream {'brand': 'colorbar', 'name': 'hydra white under eye serum 12 ml', 'price': '₹ 614', 'url': 'https://www.myntra.com/eye-cream/colorbar/colorbar-hydra-white-under-eye-serum-12-ml/1349162/buy', 'img': 'https://assets.myntassets.com/h_720,q_90,w_540/v1/assets/images/1349162/2019/1/11/819b51c9-f3b3-4d86-81b9-211d88c046b31547187110698-Colorbar-Hydra-White-Intense-Whitening-Hydrating-Under-Eye-S-1.jpg', 'skin type': 'all', 'concern': ['Level_2', 'lightening'], 'skin tone': 'dark'}\n",
      "eye-cream {'brand': 'swiss beauty', 'name': 'anti fatigue eye cream plus massager', 'price': '₹ 374', 'url': 'https://www.myntra.com/eye-cream/swiss-beauty/swiss-beauty-anti-fatigue-eye-cream-plus-massager/15580280/buy', 'img': 'https://assets.myntassets.com/h_720,q_90,w_540/v1/assets/images/15580280/2021/10/11/2ab8b3e9-4dbe-40c5-baf3-d9cdb85246051633951743921HighlighterandBlushSWISSBEAUTYWomenMaskandPeelSWISSBEAUTYUni2.jpg', 'skin type': 'all', 'concern': ['dark circles', 'Level_2'], 'skin tone': 'dark'}\n",
      "eye-cream {'brand': 'clinique', 'name': 'moisture surge eye 96-hour hydro-filler concentrate 15 ml', 'price': '₹ 2950', 'url': 'https://www.myntra.com/eye-cream/clinique/clinique-moisture-surge-eye-96-hour-hydro-filler-concentrate-15-ml/9299431/buy', 'img': 'https://assets.myntassets.com/h_720,q_90,w_540/v1/assets/images/9299431/2021/8/11/0d03dd0d-04f8-4cf1-afd6-91d131b080331628659059983CliniqueMoistureSurgeEye96-HourHydro-FillerConcentrate15ml1.jpg', 'skin type': 'all', 'concern': ['dark circles', 'Level_2', 'dryness'], 'skin tone': 'dark'}\n",
      "eye-cream {'brand': 'kora organics', 'name': 'noni radiant eye oil 10 ml', 'price': '₹ 3700', 'url': 'https://www.myntra.com/eye-cream/kora-organics/kora-organics-noni-radiant-eye-oil-10-ml/14529984/buy', 'img': 'https://assets.myntassets.com/h_720,q_90,w_540/v1/assets/images/14529984/2021/7/6/c4c44fb8-6569-438c-b528-9273f08c00bb1625567768114-Kora-Organics-Unisex-Face-Serum-and-Gel-4161625567767642-1.jpg', 'skin type': 'all', 'concern': ['Level_2', 'lightening', 'dryness'], 'skin tone': 'dark'}\n"
     ]
    }
   ],
   "source": [
    "for i,j in x.items():\n",
    "    for k in j:\n",
    "        if acne_l != '':\n",
    "            k['concern'].append(acne_l)\n",
    "        k['concern'] = [x for x in set(k['concern']) if x != '']\n",
    "        if any(con in k['concern'] for con in total_concerns):\n",
    "            print(i,k)"
   ]
  },
  {
   "cell_type": "code",
   "execution_count": 6,
   "metadata": {
    "colab": {
     "base_uri": "https://localhost:8080/"
    },
    "id": "LXRFcI0Fz0SY",
    "outputId": "333fc5d3-7f02-435c-a4f6-52e4ab510e96"
   },
   "outputs": [
    {
     "name": "stdout",
     "output_type": "stream",
     "text": [
      "Level_2\n"
     ]
    }
   ],
   "source": [
    "print(acne_l)"
   ]
  }
 ],
 "metadata": {
  "colab": {
   "provenance": []
  },
  "kernelspec": {
   "display_name": "Python 3 (ipykernel)",
   "language": "python",
   "name": "python3"
  },
  "language_info": {
   "codemirror_mode": {
    "name": "ipython",
    "version": 3
   },
   "file_extension": ".py",
   "mimetype": "text/x-python",
   "name": "python",
   "nbconvert_exporter": "python",
   "pygments_lexer": "ipython3",
   "version": "3.11.8"
  }
 },
 "nbformat": 4,
 "nbformat_minor": 4
}
